{
 "cells": [
  {
   "cell_type": "code",
   "execution_count": 1,
   "metadata": {},
   "outputs": [
    {
     "name": "stdout",
     "output_type": "stream",
     "text": [
      "Requirement already satisfied: requests in c:\\users\\andrei\\anaconda3\\lib\\site-packages\n",
      "Requirement already satisfied: BeautifulSoup4 in c:\\users\\andrei\\anaconda3\\lib\\site-packages\n"
     ]
    },
    {
     "name": "stderr",
     "output_type": "stream",
     "text": [
      "You are using pip version 9.0.1, however version 19.3.1 is available.\n",
      "You should consider upgrading via the 'python -m pip install --upgrade pip' command.\n"
     ]
    }
   ],
   "source": [
    "!pip install requests BeautifulSoup4"
   ]
  },
  {
   "cell_type": "code",
   "execution_count": 2,
   "metadata": {
    "collapsed": true
   },
   "outputs": [],
   "source": [
    "from requests import get\n",
    "from requests.exceptions import RequestException\n",
    "from contextlib import closing\n",
    "from bs4 import BeautifulSoup"
   ]
  },
  {
   "cell_type": "code",
   "execution_count": 3,
   "metadata": {
    "collapsed": true
   },
   "outputs": [],
   "source": [
    "def simple_get(url):\n",
    "    \"\"\"\n",
    "    Attempts to get the content at `url` by making an HTTP GET request.\n",
    "    If the content-type of response is some kind of HTML/XML, return the\n",
    "    text content, otherwise return None.\n",
    "    \"\"\"\n",
    "    try:\n",
    "        with closing(get(url, stream=True)) as resp:\n",
    "            if is_good_response(resp):\n",
    "                return resp.content\n",
    "            else:\n",
    "                return None\n",
    "\n",
    "    except RequestException as e:\n",
    "        log_error('Error during requests to {0} : {1}'.format(url, str(e)))\n",
    "        return None\n",
    "\n",
    "\n",
    "def is_good_response(resp):\n",
    "    \"\"\"\n",
    "    Returns True if the response seems to be HTML, False otherwise.\n",
    "    \"\"\"\n",
    "    content_type = resp.headers['Content-Type'].lower()\n",
    "    return (resp.status_code == 200 \n",
    "            and content_type is not None \n",
    "            and content_type.find('html') > -1)\n",
    "\n",
    "\n",
    "def log_error(e):\n",
    "    \"\"\"\n",
    "    It is always a good idea to log errors. \n",
    "    This function just prints them, but you can\n",
    "    make it do anything.\n",
    "    \"\"\"\n",
    "    print(e)"
   ]
  },
  {
   "cell_type": "code",
   "execution_count": 4,
   "metadata": {},
   "outputs": [
    {
     "data": {
      "text/plain": [
       "837297"
      ]
     },
     "execution_count": 4,
     "metadata": {},
     "output_type": "execute_result"
    }
   ],
   "source": [
    "raw_html = simple_get('https://altex.ro/telefon-samsung-galaxy-a10-32gb-2gb-ram-dual-sim-black/cpd/SMTA10BK/')\n",
    "len(raw_html)"
   ]
  },
  {
   "cell_type": "code",
   "execution_count": null,
   "metadata": {
    "collapsed": true
   },
   "outputs": [],
   "source": []
  },
  {
   "cell_type": "code",
   "execution_count": 5,
   "metadata": {},
   "outputs": [
    {
     "name": "stdout",
     "output_type": "stream",
     "text": [
      "649\n"
     ]
    }
   ],
   "source": [
    "html = BeautifulSoup(raw_html, 'html.parser')\n",
    "html2 = html.find_all(attrs={\"class\": \"Price-current\"})[0].children\n",
    "price = -1\n",
    "for x in html2:\n",
    "    y = x.string\n",
    "    if(y != None and y.isdigit()):\n",
    "        price = y\n",
    "\n",
    "print(price)\n"
   ]
  },
  {
   "cell_type": "code",
   "execution_count": 6,
   "metadata": {
    "collapsed": true
   },
   "outputs": [],
   "source": [
    "def getIntPriceAltex(url):\n",
    "    raw_html = simple_get(url)\n",
    "    html = BeautifulSoup(raw_html, 'html.parser')\n",
    "    html2 = html.find_all(attrs={\"class\": \"Price-current\"})[0].children\n",
    "    price = -1\n",
    "    for x in html2:\n",
    "        y = x.string\n",
    "        if(y != None):\n",
    "            y = y.replace(\".\",\"\")\n",
    "            y = y.replace(\",\",\"\")\n",
    "        if(y != None and y.isdigit()):\n",
    "            price = y\n",
    "\n",
    "    return(price)\n"
   ]
  },
  {
   "cell_type": "code",
   "execution_count": 7,
   "metadata": {},
   "outputs": [],
   "source": [
    "def getStringPriceF64(url):\n",
    "    raw_html = simple_get(url)\n",
    "    html = BeautifulSoup(raw_html, 'html.parser')\n",
    "    html2 = html.find_all(attrs={\"class\": \"skuBestPrice\"})[0].string\n",
    "    return html2"
   ]
  },
  {
   "cell_type": "code",
   "execution_count": 9,
   "metadata": {},
   "outputs": [
    {
     "name": "stdout",
     "output_type": "stream",
     "text": [
      "Seconds elapsed:  16\n",
      "\n",
      "ALTEX\n",
      "_______________\n",
      "\n",
      "Pentru produsul telefon huawei y6 2019 32gb 2gb ram dual sim sapphire blue : \n",
      "\n",
      "Pretul nu s-a schimbat de la  549\n",
      "\n",
      "Pentru produsul telefon myria my9076 l500 16gb 2gb ram dual sim negru : \n",
      "\n",
      "Pretul nu s-a schimbat de la  249\n",
      "\n",
      "Pentru produsul telefon huawei p30 lite 128gb 4gb ram dual sim midnight black : \n",
      "\n",
      "Pretul nu s-a schimbat de la  999\n",
      "F64\n",
      "_______________\n",
      "\n",
      "Pentru produsul nikon speedlight sb 700 : \n",
      "\n",
      "Pretul nu s-a schimbat de la  1.299,90 Lei\n"
     ]
    },
    {
     "ename": "KeyboardInterrupt",
     "evalue": "",
     "output_type": "error",
     "traceback": [
      "\u001b[1;31m---------------------------------------------------------------------------\u001b[0m",
      "\u001b[1;31mKeyboardInterrupt\u001b[0m                         Traceback (most recent call last)",
      "\u001b[1;32m<ipython-input-9-66732b4c5bca>\u001b[0m in \u001b[0;36m<module>\u001b[1;34m()\u001b[0m\n\u001b[0;32m     55\u001b[0m         \u001b[1;32melse\u001b[0m\u001b[1;33m:\u001b[0m\u001b[1;33m\u001b[0m\u001b[0m\n\u001b[0;32m     56\u001b[0m             \u001b[0mprint\u001b[0m\u001b[1;33m(\u001b[0m\u001b[1;34m\"Pretul nu s-a schimbat de la \"\u001b[0m\u001b[1;33m,\u001b[0m \u001b[0mprevPrice\u001b[0m\u001b[1;33m[\u001b[0m\u001b[1;34m\"F64\"\u001b[0m\u001b[1;33m]\u001b[0m\u001b[1;33m[\u001b[0m\u001b[0mprod\u001b[0m\u001b[1;33m]\u001b[0m\u001b[1;33m)\u001b[0m\u001b[1;33m\u001b[0m\u001b[0m\n\u001b[1;32m---> 57\u001b[1;33m     \u001b[0mtime\u001b[0m\u001b[1;33m.\u001b[0m\u001b[0msleep\u001b[0m\u001b[1;33m(\u001b[0m\u001b[1;36m4\u001b[0m\u001b[1;33m)\u001b[0m\u001b[1;33m\u001b[0m\u001b[0m\n\u001b[0m",
      "\u001b[1;31mKeyboardInterrupt\u001b[0m: "
     ]
    }
   ],
   "source": [
    "import time\n",
    "from IPython.display import clear_output\n",
    "\n",
    "produseAltex = [\n",
    "    \"https://altex.ro/telefon-huawei-y6-2019-32gb-2gb-ram-dual-sim-sapphire-blue/cpd/SMTY6DS19BL/\",\n",
    "    \"https://altex.ro/telefon-myria-my9076-l500-16gb-2gb-ram-dual-sim-negru/cpd/SMTMY9076DSBK/\",\n",
    "    \"https://altex.ro/telefon-huawei-p30-lite-128gb-4gb-ram-dual-sim-midnight-black/cpd/SMTP30LITEDSBK/\"\n",
    "]\n",
    "\n",
    "produseF64 = [\n",
    "    \"https://www.f64.ro/nikon-speedlight-sb-700/p?idsku=132856\"\n",
    "]\n",
    "prevPrice = {}\n",
    "prevPrice[\"Altex\"] = {}\n",
    "prevPrice[\"F64\"] = {}\n",
    "\n",
    "for prod in produseAltex:\n",
    "    prevPrice[\"Altex\"][prod] = getIntPriceAltex(prod)\n",
    "\n",
    "for prod in produseF64:\n",
    "    prevPrice[\"F64\"][prod] = getStringPriceF64(prod)\n",
    "    \n",
    "count = 0\n",
    "while(1):\n",
    "    count = count + 1\n",
    "    clear_output()\n",
    "    print(\"Seconds elapsed: \", count * 4)\n",
    "    print()\n",
    "    print(\"ALTEX\")\n",
    "    print(\"_______________\")\n",
    "    for prod in produseAltex:\n",
    "        print()\n",
    "        newPrice = getIntPriceAltex(prod)\n",
    "        prod2 = prod.replace(\"https://altex.ro/\", \"\")\n",
    "        prod2 = prod2.split(\"/\")[0].replace(\"-\", \" \")\n",
    "        print(\"Pentru produsul\", prod2,\": \")\n",
    "        print()\n",
    "        if (newPrice != prevPrice[\"Altex\"][prod]):\n",
    "            prevPrice[\"Altex\"][prod] = newPrice\n",
    "            print(\"Pretul s-a schimbat de la \", prevPrice[\"Altex\"][prod], \" la \", newPrice)\n",
    "        else:\n",
    "            print(\"Pretul nu s-a schimbat de la \", prevPrice[\"Altex\"][prod])\n",
    "    print(\"F64\")\n",
    "    print(\"_______________\")\n",
    "    for prod in produseF64:\n",
    "        print()\n",
    "        prod2 = prod.replace(\"https://www.f64.ro/\", \"\")\n",
    "        prod2 = prod2.split(\"/\")[0].replace(\"-\", \" \")\n",
    "        print(\"Pentru produsul\", prod2,\": \")\n",
    "        print()\n",
    "        newPrice = getStringPriceF64(prod)\n",
    "        if (newPrice != prevPrice[\"F64\"][prod]):\n",
    "            prevPrice[\"F64\"][prod] = newPrice\n",
    "            print(\"Pretul s-a schimbat de la \", prevPrice[\"F64\"][prod], \" la \", newPrice)\n",
    "        else:\n",
    "            print(\"Pretul nu s-a schimbat de la \", prevPrice[\"F64\"][prod])\n",
    "    time.sleep(4)"
   ]
  },
  {
   "cell_type": "code",
   "execution_count": null,
   "metadata": {
    "collapsed": true
   },
   "outputs": [],
   "source": []
  },
  {
   "cell_type": "code",
   "execution_count": null,
   "metadata": {
    "collapsed": true
   },
   "outputs": [],
   "source": []
  },
  {
   "cell_type": "code",
   "execution_count": null,
   "metadata": {
    "collapsed": true
   },
   "outputs": [],
   "source": []
  },
  {
   "cell_type": "code",
   "execution_count": null,
   "metadata": {
    "collapsed": true
   },
   "outputs": [],
   "source": []
  },
  {
   "cell_type": "code",
   "execution_count": null,
   "metadata": {
    "collapsed": true
   },
   "outputs": [],
   "source": []
  },
  {
   "cell_type": "code",
   "execution_count": null,
   "metadata": {
    "collapsed": true
   },
   "outputs": [],
   "source": []
  },
  {
   "cell_type": "code",
   "execution_count": null,
   "metadata": {
    "collapsed": true
   },
   "outputs": [],
   "source": []
  },
  {
   "cell_type": "code",
   "execution_count": null,
   "metadata": {
    "collapsed": true
   },
   "outputs": [],
   "source": []
  },
  {
   "cell_type": "code",
   "execution_count": null,
   "metadata": {
    "collapsed": true
   },
   "outputs": [],
   "source": []
  }
 ],
 "metadata": {
  "kernelspec": {
   "display_name": "Python 3",
   "language": "python",
   "name": "python3"
  },
  "language_info": {
   "codemirror_mode": {
    "name": "ipython",
    "version": 3
   },
   "file_extension": ".py",
   "mimetype": "text/x-python",
   "name": "python",
   "nbconvert_exporter": "python",
   "pygments_lexer": "ipython3",
   "version": "3.6.1"
  }
 },
 "nbformat": 4,
 "nbformat_minor": 2
}
